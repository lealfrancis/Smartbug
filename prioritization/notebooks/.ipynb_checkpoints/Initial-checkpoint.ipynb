{
 "cells": [
  {
   "cell_type": "markdown",
   "id": "d1fd9af1",
   "metadata": {},
   "source": [
    "# IMPORTS"
   ]
  },
  {
   "cell_type": "code",
   "execution_count": 6,
   "id": "c7aa85d9",
   "metadata": {
    "scrolled": true
   },
   "outputs": [
    {
     "name": "stderr",
     "output_type": "stream",
     "text": [
      "/home/jdinis/.local/lib/python3.8/site-packages/IPython/core/interactiveshell.py:3106: DtypeWarning: Columns (1,2,3,4,7,8,9,10,13,14,15,16,17,18,19,20,21,22) have mixed types.Specify dtype option on import or set low_memory=False.\n",
      "  has_raised = await self.run_ast_nodes(code_ast.body, cell_name,\n"
     ]
    },
    {
     "data": {
      "text/html": [
       "<div>\n",
       "<style scoped>\n",
       "    .dataframe tbody tr th:only-of-type {\n",
       "        vertical-align: middle;\n",
       "    }\n",
       "\n",
       "    .dataframe tbody tr th {\n",
       "        vertical-align: top;\n",
       "    }\n",
       "\n",
       "    .dataframe thead th {\n",
       "        text-align: right;\n",
       "    }\n",
       "</style>\n",
       "<table border=\"1\" class=\"dataframe\">\n",
       "  <thead>\n",
       "    <tr style=\"text-align: right;\">\n",
       "      <th></th>\n",
       "      <th>bug_id</th>\n",
       "      <th>SmartCheck_rule_id</th>\n",
       "      <th>SmartCheck_level</th>\n",
       "      <th>Oyente_rule_id</th>\n",
       "      <th>Oyente_level</th>\n",
       "      <th>Maian_rule_id</th>\n",
       "      <th>Maian_level</th>\n",
       "      <th>Conkas_rule_id</th>\n",
       "      <th>Conkas_level</th>\n",
       "      <th>Manticore_rule_id</th>\n",
       "      <th>...</th>\n",
       "      <th>Mythril_level</th>\n",
       "      <th>Osiris_rule_id</th>\n",
       "      <th>Osiris_level</th>\n",
       "      <th>Solhint_rule_id</th>\n",
       "      <th>Solhint_level</th>\n",
       "      <th>Securify_rule_id</th>\n",
       "      <th>Securify_level</th>\n",
       "      <th>Slither_rule_id</th>\n",
       "      <th>Slither_level</th>\n",
       "      <th>Value</th>\n",
       "    </tr>\n",
       "  </thead>\n",
       "  <tbody>\n",
       "    <tr>\n",
       "      <th>0</th>\n",
       "      <td>dataset/huangGai/manualCheckDataset/wastefulCo...</td>\n",
       "      <td>0</td>\n",
       "      <td>0</td>\n",
       "      <td>0</td>\n",
       "      <td>0</td>\n",
       "      <td>0</td>\n",
       "      <td>0</td>\n",
       "      <td>FrontRunning_5</td>\n",
       "      <td>warning</td>\n",
       "      <td>0</td>\n",
       "      <td>...</td>\n",
       "      <td>0</td>\n",
       "      <td>0</td>\n",
       "      <td>0</td>\n",
       "      <td>0</td>\n",
       "      <td>0</td>\n",
       "      <td>0</td>\n",
       "      <td>0</td>\n",
       "      <td>0</td>\n",
       "      <td>0</td>\n",
       "      <td>False</td>\n",
       "    </tr>\n",
       "    <tr>\n",
       "      <th>1</th>\n",
       "      <td>dataset/huangGai/manualCheckDataset/wastefulCo...</td>\n",
       "      <td>Ignore_38</td>\n",
       "      <td>warning</td>\n",
       "      <td>0</td>\n",
       "      <td>0</td>\n",
       "      <td>0</td>\n",
       "      <td>0</td>\n",
       "      <td>0</td>\n",
       "      <td>0</td>\n",
       "      <td>0</td>\n",
       "      <td>...</td>\n",
       "      <td>0</td>\n",
       "      <td>0</td>\n",
       "      <td>0</td>\n",
       "      <td>Ignore_40</td>\n",
       "      <td>error</td>\n",
       "      <td>0</td>\n",
       "      <td>0</td>\n",
       "      <td>0</td>\n",
       "      <td>0</td>\n",
       "      <td>False</td>\n",
       "    </tr>\n",
       "    <tr>\n",
       "      <th>2</th>\n",
       "      <td>dataset/huangGai/manualCheckDataset/txOriginFo...</td>\n",
       "      <td>0</td>\n",
       "      <td>0</td>\n",
       "      <td>0</td>\n",
       "      <td>0</td>\n",
       "      <td>0</td>\n",
       "      <td>0</td>\n",
       "      <td>0</td>\n",
       "      <td>0</td>\n",
       "      <td>0</td>\n",
       "      <td>...</td>\n",
       "      <td>0</td>\n",
       "      <td>0</td>\n",
       "      <td>0</td>\n",
       "      <td>Ignore_40</td>\n",
       "      <td>error</td>\n",
       "      <td>0</td>\n",
       "      <td>0</td>\n",
       "      <td>0</td>\n",
       "      <td>0</td>\n",
       "      <td>False</td>\n",
       "    </tr>\n",
       "    <tr>\n",
       "      <th>3</th>\n",
       "      <td>dataset/huangGai/manualCheckDataset/suicideCon...</td>\n",
       "      <td>0</td>\n",
       "      <td>0</td>\n",
       "      <td>0</td>\n",
       "      <td>0</td>\n",
       "      <td>0</td>\n",
       "      <td>0</td>\n",
       "      <td>0</td>\n",
       "      <td>0</td>\n",
       "      <td>0</td>\n",
       "      <td>...</td>\n",
       "      <td>0</td>\n",
       "      <td>0</td>\n",
       "      <td>0</td>\n",
       "      <td>Ignore_40</td>\n",
       "      <td>error</td>\n",
       "      <td>0</td>\n",
       "      <td>0</td>\n",
       "      <td>0</td>\n",
       "      <td>0</td>\n",
       "      <td>False</td>\n",
       "    </tr>\n",
       "    <tr>\n",
       "      <th>4</th>\n",
       "      <td>dataset/huangGai/manualCheckDataset/transactio...</td>\n",
       "      <td>0</td>\n",
       "      <td>0</td>\n",
       "      <td>0</td>\n",
       "      <td>0</td>\n",
       "      <td>0</td>\n",
       "      <td>0</td>\n",
       "      <td>0</td>\n",
       "      <td>0</td>\n",
       "      <td>0</td>\n",
       "      <td>...</td>\n",
       "      <td>0</td>\n",
       "      <td>0</td>\n",
       "      <td>0</td>\n",
       "      <td>Ignore_40</td>\n",
       "      <td>error</td>\n",
       "      <td>0</td>\n",
       "      <td>0</td>\n",
       "      <td>0</td>\n",
       "      <td>0</td>\n",
       "      <td>False</td>\n",
       "    </tr>\n",
       "    <tr>\n",
       "      <th>...</th>\n",
       "      <td>...</td>\n",
       "      <td>...</td>\n",
       "      <td>...</td>\n",
       "      <td>...</td>\n",
       "      <td>...</td>\n",
       "      <td>...</td>\n",
       "      <td>...</td>\n",
       "      <td>...</td>\n",
       "      <td>...</td>\n",
       "      <td>...</td>\n",
       "      <td>...</td>\n",
       "      <td>...</td>\n",
       "      <td>...</td>\n",
       "      <td>...</td>\n",
       "      <td>...</td>\n",
       "      <td>...</td>\n",
       "      <td>...</td>\n",
       "      <td>...</td>\n",
       "      <td>...</td>\n",
       "      <td>...</td>\n",
       "      <td>...</td>\n",
       "    </tr>\n",
       "    <tr>\n",
       "      <th>109851</th>\n",
       "      <td>dataset/huangGai/manualCheckDataset/hashWithMu...</td>\n",
       "      <td>Ignore_32</td>\n",
       "      <td>warning</td>\n",
       "      <td>0</td>\n",
       "      <td>0</td>\n",
       "      <td>0</td>\n",
       "      <td>0</td>\n",
       "      <td>0</td>\n",
       "      <td>0</td>\n",
       "      <td>0</td>\n",
       "      <td>...</td>\n",
       "      <td>0</td>\n",
       "      <td>0</td>\n",
       "      <td>0</td>\n",
       "      <td>0</td>\n",
       "      <td>0</td>\n",
       "      <td>0</td>\n",
       "      <td>0</td>\n",
       "      <td>0</td>\n",
       "      <td>0</td>\n",
       "      <td>False</td>\n",
       "    </tr>\n",
       "    <tr>\n",
       "      <th>109852</th>\n",
       "      <td>dataset/huangGai/manualCheckDataset/unhandledE...</td>\n",
       "      <td>Ignore_29</td>\n",
       "      <td>warning</td>\n",
       "      <td>0</td>\n",
       "      <td>0</td>\n",
       "      <td>0</td>\n",
       "      <td>0</td>\n",
       "      <td>0</td>\n",
       "      <td>0</td>\n",
       "      <td>0</td>\n",
       "      <td>...</td>\n",
       "      <td>0</td>\n",
       "      <td>0</td>\n",
       "      <td>0</td>\n",
       "      <td>0</td>\n",
       "      <td>0</td>\n",
       "      <td>0</td>\n",
       "      <td>0</td>\n",
       "      <td>0</td>\n",
       "      <td>0</td>\n",
       "      <td>False</td>\n",
       "    </tr>\n",
       "    <tr>\n",
       "      <th>109853</th>\n",
       "      <td>dataset/huangGai/manualCheckDataset/preSentEth...</td>\n",
       "      <td>Ignore_38</td>\n",
       "      <td>warning</td>\n",
       "      <td>0</td>\n",
       "      <td>0</td>\n",
       "      <td>0</td>\n",
       "      <td>0</td>\n",
       "      <td>0</td>\n",
       "      <td>0</td>\n",
       "      <td>0</td>\n",
       "      <td>...</td>\n",
       "      <td>0</td>\n",
       "      <td>0</td>\n",
       "      <td>0</td>\n",
       "      <td>0</td>\n",
       "      <td>0</td>\n",
       "      <td>0</td>\n",
       "      <td>0</td>\n",
       "      <td>0</td>\n",
       "      <td>0</td>\n",
       "      <td>False</td>\n",
       "    </tr>\n",
       "    <tr>\n",
       "      <th>109854</th>\n",
       "      <td>dataset/huangGai/manualCheckDataset/publicFunc...</td>\n",
       "      <td>Ignore_29</td>\n",
       "      <td>warning</td>\n",
       "      <td>0</td>\n",
       "      <td>0</td>\n",
       "      <td>0</td>\n",
       "      <td>0</td>\n",
       "      <td>0</td>\n",
       "      <td>0</td>\n",
       "      <td>0</td>\n",
       "      <td>...</td>\n",
       "      <td>0</td>\n",
       "      <td>0</td>\n",
       "      <td>0</td>\n",
       "      <td>0</td>\n",
       "      <td>0</td>\n",
       "      <td>0</td>\n",
       "      <td>0</td>\n",
       "      <td>0</td>\n",
       "      <td>0</td>\n",
       "      <td>False</td>\n",
       "    </tr>\n",
       "    <tr>\n",
       "      <th>109855</th>\n",
       "      <td>dataset/huangGai/manualCheckDataset/unhandledE...</td>\n",
       "      <td>0</td>\n",
       "      <td>0</td>\n",
       "      <td>0</td>\n",
       "      <td>0</td>\n",
       "      <td>0</td>\n",
       "      <td>0</td>\n",
       "      <td>0</td>\n",
       "      <td>0</td>\n",
       "      <td>0</td>\n",
       "      <td>...</td>\n",
       "      <td>0</td>\n",
       "      <td>0</td>\n",
       "      <td>0</td>\n",
       "      <td>Ignore_40</td>\n",
       "      <td>error</td>\n",
       "      <td>0</td>\n",
       "      <td>0</td>\n",
       "      <td>0</td>\n",
       "      <td>0</td>\n",
       "      <td>False</td>\n",
       "    </tr>\n",
       "  </tbody>\n",
       "</table>\n",
       "<p>109856 rows × 24 columns</p>\n",
       "</div>"
      ],
      "text/plain": [
       "                                                   bug_id SmartCheck_rule_id  \\\n",
       "0       dataset/huangGai/manualCheckDataset/wastefulCo...                  0   \n",
       "1       dataset/huangGai/manualCheckDataset/wastefulCo...          Ignore_38   \n",
       "2       dataset/huangGai/manualCheckDataset/txOriginFo...                  0   \n",
       "3       dataset/huangGai/manualCheckDataset/suicideCon...                  0   \n",
       "4       dataset/huangGai/manualCheckDataset/transactio...                  0   \n",
       "...                                                   ...                ...   \n",
       "109851  dataset/huangGai/manualCheckDataset/hashWithMu...          Ignore_32   \n",
       "109852  dataset/huangGai/manualCheckDataset/unhandledE...          Ignore_29   \n",
       "109853  dataset/huangGai/manualCheckDataset/preSentEth...          Ignore_38   \n",
       "109854  dataset/huangGai/manualCheckDataset/publicFunc...          Ignore_29   \n",
       "109855  dataset/huangGai/manualCheckDataset/unhandledE...                  0   \n",
       "\n",
       "       SmartCheck_level Oyente_rule_id Oyente_level  Maian_rule_id  \\\n",
       "0                     0              0            0              0   \n",
       "1               warning              0            0              0   \n",
       "2                     0              0            0              0   \n",
       "3                     0              0            0              0   \n",
       "4                     0              0            0              0   \n",
       "...                 ...            ...          ...            ...   \n",
       "109851          warning              0            0              0   \n",
       "109852          warning              0            0              0   \n",
       "109853          warning              0            0              0   \n",
       "109854          warning              0            0              0   \n",
       "109855                0              0            0              0   \n",
       "\n",
       "        Maian_level  Conkas_rule_id Conkas_level Manticore_rule_id  ...  \\\n",
       "0                 0  FrontRunning_5      warning                 0  ...   \n",
       "1                 0               0            0                 0  ...   \n",
       "2                 0               0            0                 0  ...   \n",
       "3                 0               0            0                 0  ...   \n",
       "4                 0               0            0                 0  ...   \n",
       "...             ...             ...          ...               ...  ...   \n",
       "109851            0               0            0                 0  ...   \n",
       "109852            0               0            0                 0  ...   \n",
       "109853            0               0            0                 0  ...   \n",
       "109854            0               0            0                 0  ...   \n",
       "109855            0               0            0                 0  ...   \n",
       "\n",
       "       Mythril_level  Osiris_rule_id  Osiris_level Solhint_rule_id  \\\n",
       "0                  0               0             0               0   \n",
       "1                  0               0             0       Ignore_40   \n",
       "2                  0               0             0       Ignore_40   \n",
       "3                  0               0             0       Ignore_40   \n",
       "4                  0               0             0       Ignore_40   \n",
       "...              ...             ...           ...             ...   \n",
       "109851             0               0             0               0   \n",
       "109852             0               0             0               0   \n",
       "109853             0               0             0               0   \n",
       "109854             0               0             0               0   \n",
       "109855             0               0             0       Ignore_40   \n",
       "\n",
       "       Solhint_level Securify_rule_id Securify_level Slither_rule_id  \\\n",
       "0                  0                0              0               0   \n",
       "1              error                0              0               0   \n",
       "2              error                0              0               0   \n",
       "3              error                0              0               0   \n",
       "4              error                0              0               0   \n",
       "...              ...              ...            ...             ...   \n",
       "109851             0                0              0               0   \n",
       "109852             0                0              0               0   \n",
       "109853             0                0              0               0   \n",
       "109854             0                0              0               0   \n",
       "109855         error                0              0               0   \n",
       "\n",
       "       Slither_level  Value  \n",
       "0                  0  False  \n",
       "1                  0  False  \n",
       "2                  0  False  \n",
       "3                  0  False  \n",
       "4                  0  False  \n",
       "...              ...    ...  \n",
       "109851             0  False  \n",
       "109852             0  False  \n",
       "109853             0  False  \n",
       "109854             0  False  \n",
       "109855             0  False  \n",
       "\n",
       "[109856 rows x 24 columns]"
      ]
     },
     "execution_count": 6,
     "metadata": {},
     "output_type": "execute_result"
    }
   ],
   "source": [
    "from IPython.core.interactiveshell import InteractiveShell\n",
    "InteractiveShell.ast_node_interactivity = \"all\"\n",
    "\n",
    "import pandas as pd\n",
    "data = pd.read_csv('final_manual_huang_only.csv', low_memory=False)\n",
    "data = data.sample(frac=1).reset_index(drop=True)\n",
    "data"
   ]
  },
  {
   "cell_type": "markdown",
   "id": "c69b3f01",
   "metadata": {},
   "source": [
    "# Data Division"
   ]
  },
  {
   "cell_type": "code",
   "execution_count": 2,
   "id": "bdf32799",
   "metadata": {},
   "outputs": [
    {
     "data": {
      "text/plain": [
       "0                      74461\n",
       "0                      11552\n",
       "Ignore_38               6849\n",
       "Ignore_29               3709\n",
       "Ignore_19               2798\n",
       "Ignore_35               1402\n",
       "Ignore_28               1220\n",
       "Ignore_32               1095\n",
       "Ignore_37                928\n",
       "UncheckedLowCalls_8      894\n",
       "DenialService_4          637\n",
       "Ignore_27                589\n",
       "Ignore_25                531\n",
       "Other_19                 468\n",
       "Ignore_39                444\n",
       "Ignore_33                415\n",
       "Ignore_34                387\n",
       "Ignore_22                360\n",
       "Other_17                 227\n",
       "Other_16                 205\n",
       "Arithmetic_14            145\n",
       "AccessControl_23         129\n",
       "Arithmetic_13            106\n",
       "Reentrancy_12            102\n",
       "Ignore_31                 82\n",
       "TimeManipulation_5        29\n",
       "Ignore_26                 26\n",
       "Arithmetic_15             22\n",
       "Ignore_30                 21\n",
       "Ignore_23                  9\n",
       "UncheckedLowCalls_7        5\n",
       "DenialService_5            4\n",
       "Ignore_36                  3\n",
       "Ignore_24                  2\n",
       "Name: SmartCheck_rule_id, dtype: int64"
      ]
     },
     "execution_count": 2,
     "metadata": {},
     "output_type": "execute_result"
    },
    {
     "data": {
      "text/plain": [
       "0                     98132\n",
       "0                     11552\n",
       "DenialService_2          71\n",
       "Arithmetic_12            65\n",
       "Arithmetic_11            15\n",
       "FrontRunning_6           12\n",
       "TimeManipulation_3        6\n",
       "Reentrancy_6              3\n",
       "Name: Oyente_rule_id, dtype: int64"
      ]
     },
     "execution_count": 2,
     "metadata": {},
     "output_type": "execute_result"
    },
    {
     "data": {
      "text/plain": [
       "0    109856\n",
       "Name: Maian_rule_id, dtype: int64"
      ]
     },
     "execution_count": 2,
     "metadata": {},
     "output_type": "execute_result"
    },
    {
     "data": {
      "text/plain": [
       "0                      96469\n",
       "0                      11552\n",
       "Reentrancy_14            725\n",
       "Arithmetic_19            447\n",
       "TimeManipulation_6       351\n",
       "Arithmetic_20            228\n",
       "FrontRunning_5            43\n",
       "UncheckedLowCalls_9       41\n",
       "Name: Conkas_rule_id, dtype: int64"
      ]
     },
     "execution_count": 2,
     "metadata": {},
     "output_type": "execute_result"
    },
    {
     "data": {
      "text/plain": [
       "0                      97288\n",
       "0                      11552\n",
       "Other_2                  940\n",
       "TimeManipulation_1        22\n",
       "AccessControl_10          17\n",
       "Arithmetic_2               8\n",
       "Other_3                    8\n",
       "Other_4                    7\n",
       "UncheckedLowCalls_1        5\n",
       "Other_6                    4\n",
       "Arithmetic_1               3\n",
       "AccessControl_4            2\n",
       "Name: Manticore_rule_id, dtype: int64"
      ]
     },
     "execution_count": 2,
     "metadata": {},
     "output_type": "execute_result"
    },
    {
     "data": {
      "text/plain": [
       "0    109856\n",
       "Name: HoneyBadger_rule_id, dtype: int64"
      ]
     },
     "execution_count": 2,
     "metadata": {},
     "output_type": "execute_result"
    },
    {
     "data": {
      "text/plain": [
       "0                      98048\n",
       "0                      11552\n",
       "Arithmetic_4             111\n",
       "Other_9                   43\n",
       "UncheckedLowCalls_3       23\n",
       "Reentrancy_3              22\n",
       "Ignore_1                  18\n",
       "AccessControl_15           9\n",
       "Reentrancy_4               8\n",
       "Other_7                    6\n",
       "AccessControl_13           6\n",
       "Arithmetic_5               4\n",
       "FrontRunning_1             3\n",
       "AccessControl_12           2\n",
       "AccessControl_14           1\n",
       "Name: Mythril_rule_id, dtype: int64"
      ]
     },
     "execution_count": 2,
     "metadata": {},
     "output_type": "execute_result"
    },
    {
     "data": {
      "text/plain": [
       "0                     98180\n",
       "0                     11552\n",
       "DenialService_1          66\n",
       "Arithmetic_7             36\n",
       "Ignore_2                  9\n",
       "Reentrancy_5              6\n",
       "TimeManipulation_2        5\n",
       "Arithmetic_10             1\n",
       "Arithmetic_9              1\n",
       "Name: Osiris_rule_id, dtype: int64"
      ]
     },
     "execution_count": 2,
     "metadata": {},
     "output_type": "execute_result"
    },
    {
     "data": {
      "text/plain": [
       "Ignore_40    50173\n",
       "0            38620\n",
       "0            11552\n",
       "Ignore_41     9511\n",
       "Name: Solhint_rule_id, dtype: int64"
      ]
     },
     "execution_count": 2,
     "metadata": {},
     "output_type": "execute_result"
    },
    {
     "data": {
      "text/plain": [
       "0                      96809\n",
       "0                      11552\n",
       "AccessControl_17         352\n",
       "UncheckedLowCalls_4      352\n",
       "FrontRunning_2           280\n",
       "Reentrancy_7             280\n",
       "Ignore_3                 231\n",
       "Name: Securify_rule_id, dtype: int64"
      ]
     },
     "execution_count": 2,
     "metadata": {},
     "output_type": "execute_result"
    },
    {
     "data": {
      "text/plain": [
       "0                      79635\n",
       "0                      11552\n",
       "Ignore_12               8157\n",
       "Ignore_11               3622\n",
       "Reentrancy_9            1755\n",
       "Other_13                 755\n",
       "UncheckedLowCalls_6      697\n",
       "Reentrancy_11            578\n",
       "Ignore_17                514\n",
       "UncheckedLowCalls_5      368\n",
       "Other_11                 342\n",
       "Ignore_6                 324\n",
       "Reentrancy_10            293\n",
       "TimeManipulation_4       252\n",
       "DenialService_3          241\n",
       "AccessControl_19         202\n",
       "Ignore_15                188\n",
       "Ignore_5                 112\n",
       "Ignore_18                 80\n",
       "AccessControl_22          56\n",
       "Other_14                  55\n",
       "Other_12                  29\n",
       "Ignore_10                 27\n",
       "Ignore_13                  8\n",
       "AccessControl_21           7\n",
       "Ignore_16                  3\n",
       "AccessControl_20           2\n",
       "Other_15                   2\n",
       "Name: Slither_rule_id, dtype: int64"
      ]
     },
     "execution_count": 2,
     "metadata": {},
     "output_type": "execute_result"
    }
   ],
   "source": [
    "x = data.drop(columns=['Value', 'bug_id'])\n",
    "x[\"SmartCheck_rule_id\"].value_counts()\n",
    "x[\"Oyente_rule_id\"].value_counts()\n",
    "x[\"Maian_rule_id\"].value_counts()\n",
    "x[\"Conkas_rule_id\"].value_counts()\n",
    "x[\"Manticore_rule_id\"].value_counts()\n",
    "x[\"HoneyBadger_rule_id\"].value_counts()\n",
    "x[\"Mythril_rule_id\"].value_counts()\n",
    "x[\"Osiris_rule_id\"].value_counts()\n",
    "x[\"Solhint_rule_id\"].value_counts()\n",
    "x[\"Securify_rule_id\"].value_counts()\n",
    "x[\"Slither_rule_id\"].value_counts()"
   ]
  },
  {
   "cell_type": "code",
   "execution_count": 3,
   "id": "d70f4253",
   "metadata": {},
   "outputs": [
    {
     "data": {
      "text/plain": [
       "False    97169\n",
       "True     12687\n",
       "Name: Value, dtype: int64"
      ]
     },
     "execution_count": 3,
     "metadata": {},
     "output_type": "execute_result"
    }
   ],
   "source": [
    "y = data['Value']\n",
    "y.value_counts()"
   ]
  },
  {
   "cell_type": "markdown",
   "id": "78da939a",
   "metadata": {},
   "source": [
    "# Label Encoding"
   ]
  },
  {
   "cell_type": "code",
   "execution_count": 4,
   "id": "54474503",
   "metadata": {
    "scrolled": false
   },
   "outputs": [
    {
     "ename": "TypeError",
     "evalue": "Encoders require their input to be uniformly strings or numbers. Got ['int', 'str']",
     "output_type": "error",
     "traceback": [
      "\u001b[0;31m---------------------------------------------------------------------------\u001b[0m",
      "\u001b[0;31mTypeError\u001b[0m                                 Traceback (most recent call last)",
      "File \u001b[0;32m~/.local/lib/python3.8/site-packages/sklearn/utils/_encode.py:173\u001b[0m, in \u001b[0;36m_unique_python\u001b[0;34m(values, return_inverse, return_counts)\u001b[0m\n\u001b[1;32m    171\u001b[0m uniques_set, missing_values \u001b[38;5;241m=\u001b[39m _extract_missing(uniques_set)\n\u001b[0;32m--> 173\u001b[0m uniques \u001b[38;5;241m=\u001b[39m \u001b[38;5;28;43msorted\u001b[39;49m\u001b[43m(\u001b[49m\u001b[43muniques_set\u001b[49m\u001b[43m)\u001b[49m\n\u001b[1;32m    174\u001b[0m uniques\u001b[38;5;241m.\u001b[39mextend(missing_values\u001b[38;5;241m.\u001b[39mto_list())\n",
      "\u001b[0;31mTypeError\u001b[0m: '<' not supported between instances of 'str' and 'int'",
      "\nDuring handling of the above exception, another exception occurred:\n",
      "\u001b[0;31mTypeError\u001b[0m                                 Traceback (most recent call last)",
      "Input \u001b[0;32mIn [4]\u001b[0m, in \u001b[0;36m<cell line: 29>\u001b[0;34m()\u001b[0m\n\u001b[1;32m     26\u001b[0m l_conkas_level \u001b[38;5;241m=\u001b[39m preprocessing\u001b[38;5;241m.\u001b[39mLabelEncoder()\n\u001b[1;32m     28\u001b[0m \u001b[38;5;66;03m# Fit encoders to their respective collumns\u001b[39;00m\n\u001b[0;32m---> 29\u001b[0m \u001b[43ml_solhint\u001b[49m\u001b[38;5;241;43m.\u001b[39;49m\u001b[43mfit\u001b[49m\u001b[43m(\u001b[49m\u001b[43mx\u001b[49m\u001b[43m[\u001b[49m\u001b[38;5;124;43m'\u001b[39;49m\u001b[38;5;124;43mSolhint_rule_id\u001b[39;49m\u001b[38;5;124;43m'\u001b[39;49m\u001b[43m]\u001b[49m\u001b[43m)\u001b[49m\n\u001b[1;32m     30\u001b[0m l_oyente\u001b[38;5;241m.\u001b[39mfit(x[\u001b[38;5;124m'\u001b[39m\u001b[38;5;124mOyente_rule_id\u001b[39m\u001b[38;5;124m'\u001b[39m])\n\u001b[1;32m     31\u001b[0m l_honeybadger\u001b[38;5;241m.\u001b[39mfit(x[\u001b[38;5;124m'\u001b[39m\u001b[38;5;124mHoneyBadger_rule_id\u001b[39m\u001b[38;5;124m'\u001b[39m])\n",
      "File \u001b[0;32m~/.local/lib/python3.8/site-packages/sklearn/preprocessing/_label.py:99\u001b[0m, in \u001b[0;36mLabelEncoder.fit\u001b[0;34m(self, y)\u001b[0m\n\u001b[1;32m     86\u001b[0m \u001b[38;5;124;03m\"\"\"Fit label encoder.\u001b[39;00m\n\u001b[1;32m     87\u001b[0m \n\u001b[1;32m     88\u001b[0m \u001b[38;5;124;03mParameters\u001b[39;00m\n\u001b[0;32m   (...)\u001b[0m\n\u001b[1;32m     96\u001b[0m \u001b[38;5;124;03m    Fitted label encoder.\u001b[39;00m\n\u001b[1;32m     97\u001b[0m \u001b[38;5;124;03m\"\"\"\u001b[39;00m\n\u001b[1;32m     98\u001b[0m y \u001b[38;5;241m=\u001b[39m column_or_1d(y, warn\u001b[38;5;241m=\u001b[39m\u001b[38;5;28;01mTrue\u001b[39;00m)\n\u001b[0;32m---> 99\u001b[0m \u001b[38;5;28mself\u001b[39m\u001b[38;5;241m.\u001b[39mclasses_ \u001b[38;5;241m=\u001b[39m \u001b[43m_unique\u001b[49m\u001b[43m(\u001b[49m\u001b[43my\u001b[49m\u001b[43m)\u001b[49m\n\u001b[1;32m    100\u001b[0m \u001b[38;5;28;01mreturn\u001b[39;00m \u001b[38;5;28mself\u001b[39m\n",
      "File \u001b[0;32m~/.local/lib/python3.8/site-packages/sklearn/utils/_encode.py:41\u001b[0m, in \u001b[0;36m_unique\u001b[0;34m(values, return_inverse, return_counts)\u001b[0m\n\u001b[1;32m     10\u001b[0m \u001b[38;5;124;03m\"\"\"Helper function to find unique values with support for python objects.\u001b[39;00m\n\u001b[1;32m     11\u001b[0m \n\u001b[1;32m     12\u001b[0m \u001b[38;5;124;03mUses pure python method for object dtype, and numpy method for\u001b[39;00m\n\u001b[0;32m   (...)\u001b[0m\n\u001b[1;32m     38\u001b[0m \u001b[38;5;124;03m    array. Only provided if `return_counts` is True.\u001b[39;00m\n\u001b[1;32m     39\u001b[0m \u001b[38;5;124;03m\"\"\"\u001b[39;00m\n\u001b[1;32m     40\u001b[0m \u001b[38;5;28;01mif\u001b[39;00m values\u001b[38;5;241m.\u001b[39mdtype \u001b[38;5;241m==\u001b[39m \u001b[38;5;28mobject\u001b[39m:\n\u001b[0;32m---> 41\u001b[0m     \u001b[38;5;28;01mreturn\u001b[39;00m \u001b[43m_unique_python\u001b[49m\u001b[43m(\u001b[49m\n\u001b[1;32m     42\u001b[0m \u001b[43m        \u001b[49m\u001b[43mvalues\u001b[49m\u001b[43m,\u001b[49m\u001b[43m \u001b[49m\u001b[43mreturn_inverse\u001b[49m\u001b[38;5;241;43m=\u001b[39;49m\u001b[43mreturn_inverse\u001b[49m\u001b[43m,\u001b[49m\u001b[43m \u001b[49m\u001b[43mreturn_counts\u001b[49m\u001b[38;5;241;43m=\u001b[39;49m\u001b[43mreturn_counts\u001b[49m\n\u001b[1;32m     43\u001b[0m \u001b[43m    \u001b[49m\u001b[43m)\u001b[49m\n\u001b[1;32m     44\u001b[0m \u001b[38;5;66;03m# numerical\u001b[39;00m\n\u001b[1;32m     45\u001b[0m \u001b[38;5;28;01mreturn\u001b[39;00m _unique_np(\n\u001b[1;32m     46\u001b[0m     values, return_inverse\u001b[38;5;241m=\u001b[39mreturn_inverse, return_counts\u001b[38;5;241m=\u001b[39mreturn_counts\n\u001b[1;32m     47\u001b[0m )\n",
      "File \u001b[0;32m~/.local/lib/python3.8/site-packages/sklearn/utils/_encode.py:178\u001b[0m, in \u001b[0;36m_unique_python\u001b[0;34m(values, return_inverse, return_counts)\u001b[0m\n\u001b[1;32m    176\u001b[0m \u001b[38;5;28;01mexcept\u001b[39;00m \u001b[38;5;167;01mTypeError\u001b[39;00m:\n\u001b[1;32m    177\u001b[0m     types \u001b[38;5;241m=\u001b[39m \u001b[38;5;28msorted\u001b[39m(t\u001b[38;5;241m.\u001b[39m\u001b[38;5;18m__qualname__\u001b[39m \u001b[38;5;28;01mfor\u001b[39;00m t \u001b[38;5;129;01min\u001b[39;00m \u001b[38;5;28mset\u001b[39m(\u001b[38;5;28mtype\u001b[39m(v) \u001b[38;5;28;01mfor\u001b[39;00m v \u001b[38;5;129;01min\u001b[39;00m values))\n\u001b[0;32m--> 178\u001b[0m     \u001b[38;5;28;01mraise\u001b[39;00m \u001b[38;5;167;01mTypeError\u001b[39;00m(\n\u001b[1;32m    179\u001b[0m         \u001b[38;5;124m\"\u001b[39m\u001b[38;5;124mEncoders require their input to be uniformly \u001b[39m\u001b[38;5;124m\"\u001b[39m\n\u001b[1;32m    180\u001b[0m         \u001b[38;5;124mf\u001b[39m\u001b[38;5;124m\"\u001b[39m\u001b[38;5;124mstrings or numbers. Got \u001b[39m\u001b[38;5;132;01m{\u001b[39;00mtypes\u001b[38;5;132;01m}\u001b[39;00m\u001b[38;5;124m\"\u001b[39m\n\u001b[1;32m    181\u001b[0m     )\n\u001b[1;32m    182\u001b[0m ret \u001b[38;5;241m=\u001b[39m (uniques,)\n\u001b[1;32m    184\u001b[0m \u001b[38;5;28;01mif\u001b[39;00m return_inverse:\n",
      "\u001b[0;31mTypeError\u001b[0m: Encoders require their input to be uniformly strings or numbers. Got ['int', 'str']"
     ]
    }
   ],
   "source": [
    "from sklearn import preprocessing\n",
    "# Prepare encoders\n",
    "l_solhint = preprocessing.LabelEncoder()\n",
    "l_oyente = preprocessing.LabelEncoder()\n",
    "l_honeybadger = preprocessing.LabelEncoder()\n",
    "l_osiris = preprocessing.LabelEncoder()\n",
    "l_securify = preprocessing.LabelEncoder()\n",
    "l_manticore = preprocessing.LabelEncoder()\n",
    "l_smartcheck = preprocessing.LabelEncoder()\n",
    "l_slither = preprocessing.LabelEncoder()\n",
    "l_mythril = preprocessing.LabelEncoder()\n",
    "l_maian = preprocessing.LabelEncoder()\n",
    "l_conkas = preprocessing.LabelEncoder()\n",
    "\n",
    "# Prepare level encodings\n",
    "l_solhint_level = preprocessing.LabelEncoder()\n",
    "l_oyente_level = preprocessing.LabelEncoder()\n",
    "l_honeybadger_level = preprocessing.LabelEncoder()\n",
    "l_osiris_level = preprocessing.LabelEncoder()\n",
    "l_securify_level = preprocessing.LabelEncoder()\n",
    "l_manticore_level = preprocessing.LabelEncoder()\n",
    "l_smartcheck_level = preprocessing.LabelEncoder()\n",
    "l_slither_level = preprocessing.LabelEncoder()\n",
    "l_mythril_level = preprocessing.LabelEncoder()\n",
    "l_maian_level = preprocessing.LabelEncoder()\n",
    "l_conkas_level = preprocessing.LabelEncoder()\n",
    "\n",
    "# Fit encoders to their respective collumns\n",
    "l_solhint.fit(x['Solhint_rule_id'])\n",
    "l_oyente.fit(x['Oyente_rule_id'])\n",
    "l_honeybadger.fit(x['HoneyBadger_rule_id'])\n",
    "l_osiris.fit(x['Osiris_rule_id'])\n",
    "l_securify.fit(x['Securify_rule_id'])\n",
    "l_manticore.fit(x['Manticore_rule_id'])\n",
    "l_smartcheck.fit(x['SmartCheck_rule_id'])\n",
    "l_slither.fit(x['Slither_rule_id'])\n",
    "l_mythril.fit(x['Mythril_rule_id'])\n",
    "l_maian.fit(x['Maian_rule_id'])\n",
    "l_conkas.fit(x['Conkas_rule_id'])\n",
    "\n",
    "# Fir level encodings\n",
    "l_solhint_level.fit(x['Solhint_level'])\n",
    "l_oyente_level.fit(x['Oyente_level'])\n",
    "l_honeybadger_level.fit(x['HoneyBadger_level'])\n",
    "l_osiris_level.fit(x['Osiris_level'])\n",
    "l_securify_level.fit(x['Securify_level'])\n",
    "l_manticore_level.fit(x['Manticore_level'])\n",
    "l_smartcheck_level.fit(x['SmartCheck_level'])\n",
    "l_slither_level.fit(x['Slither_level'])\n",
    "l_mythril_level.fit(x['Mythril_level'])\n",
    "l_maian_level.fit(x['Maian_level'])\n",
    "l_conkas_level.fit(x['Conkas_level'])\n",
    "\n",
    "# Get transformed collums\n",
    "x_solhint = l_solhint.transform(x['Solhint_rule_id'])\n",
    "x_oyente = l_oyente.transform(x['Oyente_rule_id'])\n",
    "x_honeybadger = l_honeybadger.transform(x['HoneyBadger_rule_id'])\n",
    "x_osiris = l_osiris.transform(x['Osiris_rule_id'])\n",
    "x_securify = l_securify.transform(x['Securify_rule_id'])\n",
    "x_manticore = l_manticore.transform(x['Manticore_rule_id'])\n",
    "x_smartcheck = l_smartcheck.transform(x['SmartCheck_rule_id'])\n",
    "x_slither = l_slither.transform(x['Slither_rule_id'])\n",
    "x_mythril = l_mythril.transform(x['Mythril_rule_id'])\n",
    "x_maian = l_maian.transform(x['Maian_rule_id'])\n",
    "x_conkas = l_conkas.transform(x['Conkas_rule_id'])\n",
    "\n",
    "# Get level collumns for all tools\n",
    "x_solhint_level = l_solhint_level.transform(x['Solhint_level'])\n",
    "x_oyente_level = l_oyente_level.transform(x['Oyente_level'])\n",
    "x_honeybadger_level = l_honeybadger_level.transform(x['HoneyBadger_level'])\n",
    "x_osiris_level = l_osiris_level.transform(x['Osiris_level'])\n",
    "x_securify_level = l_securify_level.transform(x['Securify_level'])\n",
    "x_manticore_level = l_manticore_level.transform(x['Manticore_level'])\n",
    "x_smartcheck_level = l_smartcheck_level.transform(x['SmartCheck_level'])\n",
    "x_slither_level = l_slither_level.transform(x['Slither_level'])\n",
    "x_mythril_level = l_mythril_level.transform(x['Mythril_level'])\n",
    "x_maian_level = l_maian_level.transform(x['Maian_level'])\n",
    "x_conkas_level = l_conkas_level.transform(x['Conkas_level'])\n",
    "\n",
    "# Substitute collumns for their encoded counterparts\n",
    "x['Solhint_rule_id'] = x_solhint\n",
    "x['Oyente_rule_id'] = x_oyente\n",
    "x['HoneyBadger_rule_id'] = x_honeybadger\n",
    "x['Osiris_rule_id'] = x_osiris\n",
    "x['Securify_rule_id'] = x_securify\n",
    "x['Manticore_rule_id'] = x_manticore\n",
    "x['SmartCheck_rule_id'] = x_smartcheck\n",
    "x['Slither_rule_id'] = x_slither\n",
    "x['Mythril_rule_id'] = x_mythril\n",
    "x['Maian_rule_id'] = x_maian\n",
    "x['Conkas_rule_id'] = x_conkas\n",
    "\n",
    "# Substitute level collumns\n",
    "x['Solhint_level'] = x_solhint_level\n",
    "x['Oyente_level'] = x_oyente_level\n",
    "x['HoneyBadger_level'] = x_honeybadger_level\n",
    "x['Osiris_level'] = x_osiris_level\n",
    "x['Securify_level'] = x_securify_level\n",
    "x['Manticore_level'] = x_securify_level\n",
    "x['SmartCheck_level'] = x_smartcheck_level\n",
    "x['Slither_level'] = x_slither_level\n",
    "x['Mythril_level'] = x_mythril_level\n",
    "x['Maian_level'] = x_maian_level\n",
    "x['Conkas_level'] = x_conkas_level\n",
    "\n",
    "\n",
    "x"
   ]
  },
  {
   "cell_type": "code",
   "execution_count": null,
   "id": "3a950c2a",
   "metadata": {},
   "outputs": [],
   "source": [
    "x[\"SmartCheck_rule_id\"].value_counts()\n",
    "x[\"Oyente_rule_id\"].value_counts()\n",
    "x[\"Maian_rule_id\"].value_counts()\n",
    "x[\"Conkas_rule_id\"].value_counts()\n",
    "x[\"Manticore_rule_id\"].value_counts()\n",
    "x[\"HoneyBadger_rule_id\"].value_counts()\n",
    "x[\"Mythril_rule_id\"].value_counts()\n",
    "x[\"Osiris_rule_id\"].value_counts()\n",
    "x[\"Solhint_rule_id\"].value_counts()\n",
    "x[\"Securify_rule_id\"].value_counts()\n",
    "x[\"Slither_rule_id\"].value_counts()"
   ]
  },
  {
   "cell_type": "markdown",
   "id": "31dfa21f",
   "metadata": {},
   "source": [
    "# Test Data Division"
   ]
  },
  {
   "cell_type": "code",
   "execution_count": null,
   "id": "aa95069f",
   "metadata": {},
   "outputs": [],
   "source": [
    "from sklearn.model_selection import train_test_split\n",
    "\n",
    "x_train, x_test, y_train, y_test = train_test_split(x, y, test_size=0.2, shuffle = True, random_state=15, stratify=y)"
   ]
  },
  {
   "cell_type": "markdown",
   "id": "f6caaa95",
   "metadata": {},
   "source": [
    "## Under and OverSampling the training set"
   ]
  },
  {
   "cell_type": "code",
   "execution_count": null,
   "id": "622035ce",
   "metadata": {},
   "outputs": [],
   "source": [
    "from imblearn.under_sampling import NearMiss\n",
    "from imblearn.under_sampling import RandomUnderSampler\n",
    "\n",
    "from imblearn.over_sampling import RandomOverSampler\n",
    "from imblearn.over_sampling import SMOTE\n",
    "\n",
    "undersampling = False\n",
    "oversampling = True\n",
    "\n",
    "undersample = RandomUnderSampler()\n",
    "oversample = SMOTE()\n",
    "\n",
    "if undersampling:\n",
    "    x_train, y_train = undersample.fit_resample(x_train, y_train)\n",
    "    \n",
    "if oversampling:\n",
    "    x_train, y_train = oversample.fit_resample(x_train, y_train)"
   ]
  },
  {
   "cell_type": "code",
   "execution_count": null,
   "id": "2d602e5e",
   "metadata": {},
   "outputs": [],
   "source": [
    "x_test.describe(include = \"all\")"
   ]
  },
  {
   "cell_type": "code",
   "execution_count": null,
   "id": "c8a797d2",
   "metadata": {},
   "outputs": [],
   "source": [
    "y_train.value_counts()"
   ]
  },
  {
   "cell_type": "code",
   "execution_count": null,
   "id": "21c2a902",
   "metadata": {},
   "outputs": [],
   "source": [
    "y_test.value_counts()"
   ]
  },
  {
   "cell_type": "markdown",
   "id": "6e3c1f63",
   "metadata": {},
   "source": [
    "# Prioritization function"
   ]
  },
  {
   "cell_type": "code",
   "execution_count": null,
   "id": "dd774054",
   "metadata": {},
   "outputs": [],
   "source": [
    "from sklearn.metrics import accuracy_score\n",
    "from sklearn.metrics import f1_score\n",
    "from sklearn.metrics import recall_score\n",
    "from sklearn.metrics import precision_score\n",
    "\n",
    "def apbd(predictions):\n",
    "    weight_avg = 0\n",
    "    \n",
    "    n = len(predictions[\"prediction\"])\n",
    "    m = 0\n",
    "    \n",
    "    for i in range(len(predictions[\"prediction\"])):\n",
    "        #print(i, sorted_pred[\"prediction\"][i], sorted_pred[\"value\"][i])\n",
    "        if predictions[\"value\"][i] == True:\n",
    "            weight_avg += i\n",
    "            m += 1\n",
    "    \n",
    "    res = 1 - (weight_avg/(n*m)) + 1/(2*n)\n",
    "    \n",
    "    return res\n",
    "    \n",
    "def prio(predictions, values):\n",
    "    s1 = pd.Series(predictions, name = \"prediction\").reset_index()\n",
    "    s2 = pd.Series(values, name = \"value\").reset_index()\n",
    "    s3 = pd.Series(s2[\"value\"], name = \"value\").reset_index()\n",
    "    res = pd.concat([s1, s3], axis=1).drop(columns=[\"index\"])\n",
    "    sorted_pred = res.sort_values(by=[\"prediction\"], ignore_index=True, ascending=False)\n",
    "    \n",
    "    return sorted_pred\n"
   ]
  },
  {
   "cell_type": "markdown",
   "id": "6766c9e8",
   "metadata": {},
   "source": [
    "# Polt Function"
   ]
  },
  {
   "cell_type": "code",
   "execution_count": null,
   "id": "b0f1acb8",
   "metadata": {},
   "outputs": [],
   "source": [
    "import matplotlib.pyplot as plt\n",
    "\n",
    "def plot_true_bugs (predictions):\n",
    "    x_axis = []\n",
    "    y_axis = []\n",
    "    perfect_y = []\n",
    "    random_y = []\n",
    "    perfect_i = 0\n",
    "    random_i = 0\n",
    "    bugs_found = 0\n",
    "    total_bugs=0\n",
    "    total_reports = len(predictions[\"prediction\"])\n",
    "    plt.clf()\n",
    "    \n",
    "    for i in range(len(predictions[\"prediction\"])):\n",
    "        # Test for only 1 in each 1000\n",
    "        #if i % 1000 != 0:\n",
    "        #    continue\n",
    "            \n",
    "        if predictions[\"value\"][i] == True:\n",
    "            total_bugs +=1\n",
    "    \n",
    "    for i in range(len(predictions[\"prediction\"])):\n",
    "        # Test for only 1 in each 1000\n",
    "        #if i % 1000 != 0:\n",
    "        #    continue\n",
    "            \n",
    "        # Measure Model\n",
    "        if predictions[\"value\"][i] == True:\n",
    "            bugs_found += 1\n",
    "        \n",
    "        x_axis.append(i)\n",
    "        y_axis.append((bugs_found/total_bugs)*100)\n",
    "        \n",
    "        # Measure Perfect\n",
    "        if i < total_bugs:\n",
    "            perfect_i += 1\n",
    "        \n",
    "        perfect_y.append((perfect_i/total_bugs)*100)\n",
    "        \n",
    "        # Measure Average\n",
    "        random_i = (i * total_bugs) / total_reports\n",
    "        random_y.append((random_i/total_bugs)*100)\n",
    "        \n",
    "    \n",
    "    plt.plot(x_axis, y_axis, label = \"model\", color=\"blue\", zorder=3)\n",
    "    plt.plot(x_axis, perfect_y , label = \"perfect\", color=\"green\", zorder=2)\n",
    "    plt.plot(x_axis, random_y , label = \"random\", color=\"red\", zorder=1)\n",
    "    plt.xlabel('Bugs Analyzed')\n",
    "    plt.ylabel('% of True Bugs Found')\n",
    "    plt.title('True Bugs Found Over Time')\n",
    "\n",
    "    plt.legend()\n",
    "    return plt"
   ]
  },
  {
   "cell_type": "markdown",
   "id": "a54bb30f",
   "metadata": {},
   "source": [
    "# Decison Tree Classifier"
   ]
  },
  {
   "cell_type": "code",
   "execution_count": null,
   "id": "f73d8eff",
   "metadata": {},
   "outputs": [],
   "source": [
    "from sklearn.tree import DecisionTreeClassifier\n",
    "decision_tree_classifier_model = DecisionTreeClassifier()\n",
    "decision_tree_classifier_model.fit(x_train, y_train)\n",
    "\n",
    "predictions = decision_tree_classifier_model.predict(x_test)\n",
    "\n",
    "score = accuracy_score(y_test, predictions)\n",
    "f1 = f1_score(y_test, predictions)\n",
    "recall = recall_score(y_test, predictions)\n",
    "precision = precision_score(y_test, predictions)\n",
    "\n",
    "train_predictions = decision_tree_classifier_model.predict(x_train)\n",
    "train_score = accuracy_score(y_train, train_predictions)\n",
    "train_f1 = f1_score(y_train, train_predictions)\n",
    "train_recall = recall_score(y_train, train_predictions)\n",
    "train_precision = precision_score(y_train, train_predictions)\n",
    "\n",
    "final_prio = prio(predictions, y_test)\n",
    "\n",
    "print(\"--------Train--------\")\n",
    "print(\"Score:\", train_score)\n",
    "print(\"F1:\", train_f1)\n",
    "print(\"Recall:\", train_recall)\n",
    "print(\"Precision:\", train_precision)\n",
    "\n",
    "print(\"--------Test--------\")\n",
    "print(\"Score:\", score)\n",
    "print(\"F1:\", f1)\n",
    "print(\"Recall:\", recall)\n",
    "print(\"Precision:\", precision)"
   ]
  },
  {
   "cell_type": "code",
   "execution_count": null,
   "id": "89517c28",
   "metadata": {},
   "outputs": [],
   "source": [
    "from sklearn import tree\n",
    "\n",
    "features = [\"SmartCheck_rule_id\",\"SmartCheck_level\",\"Oyente_rule_id\",\"Oyente_level\",\"Maian_rule_id\",\"Maian_level\",\"Conkas_rule_id\",\"Conkas_level\",\"Manticore_rule_id\",\"Manticore_level\",\"HoneyBadger_rule_id\",\"HoneyBadger_level\",\"Mythril_rule_id\",\"Mythril_level\",\"Osiris_rule_id\",\"Osiris_level\",\"Solhint_rule_id\",\"Solhint_level\",\"Securify_rule_id\",\"Securify_level\",\"Slither_rule_id\",\"Slither_level\"]\n",
    "fig = plt.figure(figsize=(50,50))\n",
    "_ = tree.plot_tree(decision_tree_classifier_model, filled=True, feature_names=features)"
   ]
  },
  {
   "cell_type": "code",
   "execution_count": null,
   "id": "4d585d91",
   "metadata": {},
   "outputs": [],
   "source": [
    "predictions"
   ]
  },
  {
   "cell_type": "code",
   "execution_count": null,
   "id": "84f1a470",
   "metadata": {},
   "outputs": [],
   "source": [
    "apbd(final_prio)"
   ]
  },
  {
   "cell_type": "code",
   "execution_count": null,
   "id": "78ec80d6",
   "metadata": {},
   "outputs": [],
   "source": [
    "plot_true_bugs(final_prio).show()"
   ]
  },
  {
   "cell_type": "markdown",
   "id": "b28a640d",
   "metadata": {},
   "source": [
    "# Logistic Regression CV"
   ]
  },
  {
   "cell_type": "code",
   "execution_count": null,
   "id": "fc12a2a6",
   "metadata": {},
   "outputs": [],
   "source": [
    "from sklearn.linear_model import LogisticRegressionCV\n",
    "logistic_regression_cv_model = LogisticRegressionCV(cv=10, max_iter=100000)\n",
    "logistic_regression_cv_model.fit(x_train, y_train)\n",
    "\n",
    "predictions = logistic_regression_cv_model.predict(x_test)\n",
    "predictions_probability = logistic_regression_cv_model.predict_proba(x_test)\n",
    "\n",
    "score = accuracy_score(y_test, predictions)\n",
    "f1 = f1_score(y_test, predictions)\n",
    "recall = recall_score(y_test, predictions)\n",
    "precision = precision_score(y_test, predictions)\n",
    "\n",
    "train_predictions = logistic_regression_cv_model.predict(x_train)\n",
    "train_score = accuracy_score(y_train, train_predictions)\n",
    "train_f1 = f1_score(y_train, train_predictions)\n",
    "train_recall = recall_score(y_train, train_predictions)\n",
    "train_precision = precision_score(y_train, train_predictions)\n",
    "\n",
    "final_prio = prio(predictions, y_test)\n",
    "\n",
    "print(\"--------Train--------\")\n",
    "print(\"Score:\", train_score)\n",
    "print(\"F1:\", train_f1)\n",
    "print(\"Recall:\", train_recall)\n",
    "print(\"Precision:\", train_precision)\n",
    "\n",
    "print(\"--------Test--------\")\n",
    "print(\"Score:\", score)\n",
    "print(\"F1:\", f1)\n",
    "print(\"Recall:\", recall)\n",
    "print(\"Precision:\", precision)"
   ]
  },
  {
   "cell_type": "code",
   "execution_count": null,
   "id": "6d28ccaf",
   "metadata": {},
   "outputs": [],
   "source": [
    "predictions"
   ]
  },
  {
   "cell_type": "code",
   "execution_count": null,
   "id": "851a5f52",
   "metadata": {},
   "outputs": [],
   "source": [
    "predictions_probability"
   ]
  },
  {
   "cell_type": "code",
   "execution_count": null,
   "id": "bf7bb2dd",
   "metadata": {},
   "outputs": [],
   "source": [
    "apbd(final_prio)"
   ]
  },
  {
   "cell_type": "code",
   "execution_count": null,
   "id": "5b06c2a1",
   "metadata": {},
   "outputs": [],
   "source": [
    "plot_true_bugs(final_prio).show()"
   ]
  },
  {
   "cell_type": "markdown",
   "id": "94b209c5",
   "metadata": {},
   "source": [
    "# Logistic Regression"
   ]
  },
  {
   "cell_type": "code",
   "execution_count": null,
   "id": "755e5e45",
   "metadata": {},
   "outputs": [],
   "source": [
    "from sklearn.linear_model import LogisticRegression\n",
    "logistic_reggression_model = LogisticRegression(max_iter=100000)\n",
    "logistic_reggression_model.fit(x_train, y_train)\n",
    "\n",
    "predictions = logistic_reggression_model.predict(x_test)\n",
    "predictions_probability = logistic_reggression_model.predict_proba(x_test)\n",
    "\n",
    "score = accuracy_score(y_test, predictions)\n",
    "f1 = f1_score(y_test, predictions)\n",
    "recall = recall_score(y_test, predictions)\n",
    "precision = precision_score(y_test, predictions)\n",
    "\n",
    "final_prio = prio(predictions, y_test)\n",
    "\n",
    "train_predictions = logistic_reggression_model.predict(x_train)\n",
    "train_score = accuracy_score(y_train, train_predictions)\n",
    "train_f1 = f1_score(y_train, train_predictions)\n",
    "train_recall = recall_score(y_train, train_predictions)\n",
    "train_precision = precision_score(y_train, train_predictions)\n",
    "\n",
    "final_prio = prio(predictions, y_test)\n",
    "\n",
    "print(\"--------Train--------\")\n",
    "print(\"Score:\", train_score)\n",
    "print(\"F1:\", train_f1)\n",
    "print(\"Recall:\", train_recall)\n",
    "print(\"Precision:\", train_precision)\n",
    "\n",
    "print(\"--------Test--------\")\n",
    "print(\"Score:\", score)\n",
    "print(\"F1:\", f1)\n",
    "print(\"Recall:\", recall)\n",
    "print(\"Precision:\", precision)"
   ]
  },
  {
   "cell_type": "code",
   "execution_count": null,
   "id": "7cc6b5c7",
   "metadata": {},
   "outputs": [],
   "source": [
    "predictions"
   ]
  },
  {
   "cell_type": "code",
   "execution_count": null,
   "id": "14403423",
   "metadata": {},
   "outputs": [],
   "source": [
    "predictions_probability"
   ]
  },
  {
   "cell_type": "code",
   "execution_count": null,
   "id": "bca7efb0",
   "metadata": {},
   "outputs": [],
   "source": [
    "apbd(final_prio)"
   ]
  },
  {
   "cell_type": "code",
   "execution_count": null,
   "id": "6aacd79c",
   "metadata": {},
   "outputs": [],
   "source": [
    "plot_true_bugs(final_prio).show()"
   ]
  },
  {
   "cell_type": "markdown",
   "id": "92dc4a86",
   "metadata": {},
   "source": [
    "# Percepton"
   ]
  },
  {
   "cell_type": "code",
   "execution_count": null,
   "id": "7eaa3a8d",
   "metadata": {},
   "outputs": [],
   "source": [
    "from sklearn.linear_model import Perceptron\n",
    "percepton_model = Perceptron()\n",
    "percepton_model.fit(x_train, y_train)\n",
    "\n",
    "predictions = percepton_model.predict(x_test)\n",
    "\n",
    "score = accuracy_score(y_test, predictions)\n",
    "f1 = f1_score(y_test, predictions)\n",
    "recall = recall_score(y_test, predictions)\n",
    "precision = precision_score(y_test, predictions)\n",
    "\n",
    "train_predictions = percepton_model.predict(x_train)\n",
    "train_score = accuracy_score(y_train, train_predictions)\n",
    "train_f1 = f1_score(y_train, train_predictions)\n",
    "train_recall = recall_score(y_train, train_predictions)\n",
    "train_precision = precision_score(y_train, train_predictions)\n",
    "\n",
    "final_prio = prio(predictions, y_test)\n",
    "\n",
    "print(\"--------Train--------\")\n",
    "print(\"Score:\", train_score)\n",
    "print(\"F1:\", train_f1)\n",
    "print(\"Recall:\", train_recall)\n",
    "print(\"Precision:\", train_precision)\n",
    "\n",
    "print(\"--------Test--------\")\n",
    "print(\"Score:\", score)\n",
    "print(\"F1:\", f1)\n",
    "print(\"Recall:\", recall)\n",
    "print(\"Precision:\", precision)"
   ]
  },
  {
   "cell_type": "code",
   "execution_count": null,
   "id": "820e06e8",
   "metadata": {},
   "outputs": [],
   "source": [
    "predictions"
   ]
  },
  {
   "cell_type": "code",
   "execution_count": null,
   "id": "e072db0a",
   "metadata": {},
   "outputs": [],
   "source": [
    "apbd(final_prio)"
   ]
  },
  {
   "cell_type": "code",
   "execution_count": null,
   "id": "3ac35756",
   "metadata": {},
   "outputs": [],
   "source": [
    "plot_true_bugs(final_prio).show()"
   ]
  },
  {
   "cell_type": "markdown",
   "id": "59f24f47",
   "metadata": {},
   "source": [
    "# Passive Aggressive Classifier"
   ]
  },
  {
   "cell_type": "code",
   "execution_count": null,
   "id": "e608d385",
   "metadata": {},
   "outputs": [],
   "source": [
    "from sklearn.linear_model import PassiveAggressiveClassifier\n",
    "passive_aggressive_classifier_model = PassiveAggressiveClassifier()\n",
    "passive_aggressive_classifier_model.fit(x_train, y_train)\n",
    "\n",
    "predictions = passive_aggressive_classifier_model.predict(x_test)\n",
    "\n",
    "score = accuracy_score(y_test, predictions)\n",
    "f1 = f1_score(y_test, predictions)\n",
    "recall = recall_score(y_test, predictions)\n",
    "precision = precision_score(y_test, predictions)\n",
    "\n",
    "train_predictions = passive_aggressive_classifier_model.predict(x_train)\n",
    "train_score = accuracy_score(y_train, train_predictions)\n",
    "train_f1 = f1_score(y_train, train_predictions)\n",
    "train_recall = recall_score(y_train, train_predictions)\n",
    "train_precision = precision_score(y_train, train_predictions)\n",
    "\n",
    "final_prio = prio(predictions, y_test)\n",
    "\n",
    "print(\"--------Train--------\")\n",
    "print(\"Score:\", train_score)\n",
    "print(\"F1:\", train_f1)\n",
    "print(\"Recall:\", train_recall)\n",
    "print(\"Precision:\", train_precision)\n",
    "\n",
    "print(\"--------Test--------\")\n",
    "print(\"Score:\", score)\n",
    "print(\"F1:\", f1)\n",
    "print(\"Recall:\", recall)\n",
    "print(\"Precision:\", precision)"
   ]
  },
  {
   "cell_type": "code",
   "execution_count": null,
   "id": "448ba494",
   "metadata": {},
   "outputs": [],
   "source": [
    "predictions"
   ]
  },
  {
   "cell_type": "code",
   "execution_count": null,
   "id": "401b0c8d",
   "metadata": {},
   "outputs": [],
   "source": [
    "apbd(final_prio)"
   ]
  },
  {
   "cell_type": "code",
   "execution_count": null,
   "id": "c589ef56",
   "metadata": {},
   "outputs": [],
   "source": [
    "plot_true_bugs(final_prio).show()"
   ]
  },
  {
   "cell_type": "markdown",
   "id": "69126b90",
   "metadata": {},
   "source": [
    "# Ridge Classifier CV"
   ]
  },
  {
   "cell_type": "code",
   "execution_count": null,
   "id": "962aa0b5",
   "metadata": {},
   "outputs": [],
   "source": [
    "from sklearn.linear_model import RidgeClassifierCV\n",
    "ridge_classifier_cv_model = RidgeClassifierCV(alphas=[0.1,0.5,1])\n",
    "ridge_classifier_cv_model.fit(x_train, y_train)\n",
    "\n",
    "predictions = ridge_classifier_cv_model.predict(x_test)\n",
    "\n",
    "score = accuracy_score(y_test, predictions)\n",
    "f1 = f1_score(y_test, predictions)\n",
    "recall = recall_score(y_test, predictions)\n",
    "precision = precision_score(y_test, predictions)\n",
    "\n",
    "\n",
    "train_predictions = ridge_classifier_cv_model.predict(x_train)\n",
    "train_score = accuracy_score(y_train, train_predictions)\n",
    "train_f1 = f1_score(y_train, train_predictions)\n",
    "train_recall = recall_score(y_train, train_predictions)\n",
    "train_precision = precision_score(y_train, train_predictions)\n",
    "\n",
    "final_prio = prio(predictions, y_test)\n",
    "\n",
    "print(\"--------Train--------\")\n",
    "print(\"Score:\", train_score)\n",
    "print(\"F1:\", train_f1)\n",
    "print(\"Recall:\", train_recall)\n",
    "print(\"Precision:\", train_precision)\n",
    "\n",
    "print(\"--------Test--------\")\n",
    "print(\"Score:\", score)\n",
    "print(\"F1:\", f1)\n",
    "print(\"Recall:\", recall)\n",
    "print(\"Precision:\", precision)"
   ]
  },
  {
   "cell_type": "code",
   "execution_count": null,
   "id": "a3cd815b",
   "metadata": {},
   "outputs": [],
   "source": [
    "predictions"
   ]
  },
  {
   "cell_type": "code",
   "execution_count": null,
   "id": "c02cea9f",
   "metadata": {},
   "outputs": [],
   "source": [
    "apbd(final_prio)"
   ]
  },
  {
   "cell_type": "code",
   "execution_count": null,
   "id": "f5688b42",
   "metadata": {},
   "outputs": [],
   "source": [
    "plot_true_bugs(final_prio).show()"
   ]
  },
  {
   "cell_type": "markdown",
   "id": "eca5b2da",
   "metadata": {},
   "source": [
    "# SGDClassifier"
   ]
  },
  {
   "cell_type": "code",
   "execution_count": null,
   "id": "0802695a",
   "metadata": {},
   "outputs": [],
   "source": [
    "from sklearn.linear_model import SGDClassifier\n",
    "sgd_classifier_model = SGDClassifier()\n",
    "sgd_classifier_model.fit(x_train, y_train)\n",
    "\n",
    "predictions = sgd_classifier_model.predict(x_test)\n",
    "\n",
    "score = accuracy_score(y_test, predictions)\n",
    "f1 = f1_score(y_test, predictions)\n",
    "recall = recall_score(y_test, predictions)\n",
    "precision = precision_score(y_test, predictions)\n",
    "\n",
    "train_predictions = sgd_classifier_model.predict(x_train)\n",
    "train_score = accuracy_score(y_train, train_predictions)\n",
    "train_f1 = f1_score(y_train, train_predictions)\n",
    "train_recall = recall_score(y_train, train_predictions)\n",
    "train_precision = precision_score(y_train, train_predictions)\n",
    "\n",
    "final_prio = prio(predictions, y_test)\n",
    "\n",
    "print(\"--------Train--------\")\n",
    "print(\"Score:\", train_score)\n",
    "print(\"F1:\", train_f1)\n",
    "print(\"Recall:\", train_recall)\n",
    "print(\"Precision:\", train_precision)\n",
    "\n",
    "print(\"--------Test--------\")\n",
    "print(\"Score:\", score)\n",
    "print(\"F1:\", f1)\n",
    "print(\"Recall:\", recall)\n",
    "print(\"Precision:\", precision)"
   ]
  },
  {
   "cell_type": "code",
   "execution_count": null,
   "id": "044f21e7",
   "metadata": {},
   "outputs": [],
   "source": [
    "predictions"
   ]
  },
  {
   "cell_type": "code",
   "execution_count": null,
   "id": "86aaf1bb",
   "metadata": {},
   "outputs": [],
   "source": [
    "apbd(final_prio)"
   ]
  },
  {
   "cell_type": "code",
   "execution_count": null,
   "id": "d17fe50f",
   "metadata": {},
   "outputs": [],
   "source": [
    "plot_true_bugs(final_prio).show()"
   ]
  },
  {
   "cell_type": "markdown",
   "id": "05b77886",
   "metadata": {},
   "source": [
    "#  KNeighboors Classifier"
   ]
  },
  {
   "cell_type": "code",
   "execution_count": null,
   "id": "feb777ac",
   "metadata": {},
   "outputs": [],
   "source": [
    "from sklearn.neighbors import KNeighborsClassifier\n",
    "k_neighboors_classifier_model = KNeighborsClassifier(n_neighbors=5)\n",
    "k_neighboors_classifier_model.fit(x_train, y_train)\n",
    "\n",
    "predictions = k_neighboors_classifier_model.predict(x_test)\n",
    "\n",
    "score = accuracy_score(y_test, predictions)\n",
    "f1 = f1_score(y_test, predictions)\n",
    "recall = recall_score(y_test, predictions)\n",
    "precision = precision_score(y_test, predictions)\n",
    "\n",
    "train_predictions = k_neighboors_classifier_model.predict(x_train)\n",
    "train_score = accuracy_score(y_train, train_predictions)\n",
    "train_f1 = f1_score(y_train, train_predictions)\n",
    "train_recall = recall_score(y_train, train_predictions)\n",
    "train_precision = precision_score(y_train, train_predictions)\n",
    "\n",
    "final_prio = prio(predictions, y_test)\n",
    "\n",
    "print(\"--------Train--------\")\n",
    "print(\"Score:\", train_score)\n",
    "print(\"F1:\", train_f1)\n",
    "print(\"Recall:\", train_recall)\n",
    "print(\"Precision:\", train_precision)\n",
    "\n",
    "print(\"--------Test--------\")\n",
    "print(\"Score:\", score)\n",
    "print(\"F1:\", f1)\n",
    "print(\"Recall:\", recall)\n",
    "print(\"Precision:\", precision)"
   ]
  },
  {
   "cell_type": "code",
   "execution_count": null,
   "id": "e423826f",
   "metadata": {},
   "outputs": [],
   "source": [
    "predictions"
   ]
  },
  {
   "cell_type": "code",
   "execution_count": null,
   "id": "2605c428",
   "metadata": {},
   "outputs": [],
   "source": [
    "apbd(final_prio)"
   ]
  },
  {
   "cell_type": "code",
   "execution_count": null,
   "id": "7df2b596",
   "metadata": {},
   "outputs": [],
   "source": [
    "plot_true_bugs(final_prio).show()"
   ]
  },
  {
   "cell_type": "markdown",
   "id": "6cef10d6",
   "metadata": {},
   "source": [
    "# KNeighboors Regressor"
   ]
  },
  {
   "cell_type": "code",
   "execution_count": null,
   "id": "e706f4f0",
   "metadata": {},
   "outputs": [],
   "source": [
    "from sklearn.neighbors import KNeighborsRegressor\n",
    "k_neighboors_regressor_model = KNeighborsRegressor(n_neighbors=5)\n",
    "k_neighboors_regressor_model.fit(x_train, y_train)\n",
    "\n",
    "predictions = k_neighboors_regressor_model.predict(x_test)\n",
    "final_predictions = []\n",
    "\n",
    "for p in predictions:\n",
    "    final_p = False\n",
    "    if (p > 0.5):\n",
    "        final_p = True\n",
    "    final_predictions.append(final_p)\n",
    "    \n",
    "score = accuracy_score(y_test, final_predictions)\n",
    "f1 = f1_score(y_test, final_predictions)\n",
    "recall = recall_score(y_test, final_predictions)\n",
    "precision = precision_score(y_test, final_predictions)\n",
    "\n",
    "train_predictions = k_neighboors_regressor_model.predict(x_train)\n",
    "train_final_predictions = []\n",
    "\n",
    "for p in train_predictions:\n",
    "    final_p = False\n",
    "    if (p > 0.5):\n",
    "        final_p = True\n",
    "    train_final_predictions.append(final_p)\n",
    "    \n",
    "train_score = accuracy_score(y_train, train_final_predictions)\n",
    "train_f1 = f1_score(y_train, train_final_predictions)\n",
    "train_recall = recall_score(y_train, train_final_predictions)\n",
    "train_precision = precision_score(y_train, train_final_predictions)\n",
    "\n",
    "final_prio = prio(final_predictions, y_test)\n",
    "\n",
    "print(\"--------Train--------\")\n",
    "print(\"Score:\", train_score)\n",
    "print(\"F1:\", train_f1)\n",
    "print(\"Recall:\", train_recall)\n",
    "print(\"Precision:\", train_precision)\n",
    "\n",
    "print(\"--------Test--------\")\n",
    "print(\"Score:\", score)\n",
    "print(\"F1:\", f1)\n",
    "print(\"Recall:\", recall)\n",
    "print(\"Precision:\", precision)"
   ]
  },
  {
   "cell_type": "code",
   "execution_count": null,
   "id": "5933eb82",
   "metadata": {},
   "outputs": [],
   "source": [
    "prio_data = prio(predictions, y_test)  \n",
    "apbd(prio_data)"
   ]
  },
  {
   "cell_type": "code",
   "execution_count": null,
   "id": "4b2e84ab",
   "metadata": {},
   "outputs": [],
   "source": [
    "plot_true_bugs(prio_data).show()"
   ]
  },
  {
   "cell_type": "markdown",
   "id": "fad4c72a",
   "metadata": {},
   "source": [
    "# Linear Regressor"
   ]
  },
  {
   "cell_type": "code",
   "execution_count": null,
   "id": "5825f9ea",
   "metadata": {},
   "outputs": [],
   "source": [
    "from sklearn.linear_model import LinearRegression\n",
    "linear_regressor_model = LinearRegression()\n",
    "linear_regressor_model.fit(x_train, y_train)\n",
    "\n",
    "predictions = linear_regressor_model.predict(x_test)\n",
    "final_predictions = []\n",
    "\n",
    "for p in predictions:\n",
    "    final_p = False\n",
    "    if (p > 0.5):\n",
    "        final_p = True\n",
    "    final_predictions.append(final_p)\n",
    "    \n",
    "score = accuracy_score(y_test, final_predictions)\n",
    "f1 = f1_score(y_test, final_predictions)\n",
    "recall = recall_score(y_test, final_predictions)\n",
    "precision = precision_score(y_test, final_predictions)\n",
    "\n",
    "train_predictions = k_neighboors_regressor_model.predict(x_train)\n",
    "train_final_predictions = []\n",
    "\n",
    "for p in train_predictions:\n",
    "    final_p = False\n",
    "    if (p > 0.5):\n",
    "        final_p = True\n",
    "    train_final_predictions.append(final_p)\n",
    "    \n",
    "train_score = accuracy_score(y_train, train_final_predictions)\n",
    "train_f1 = f1_score(y_train, train_final_predictions)\n",
    "train_recall = recall_score(y_train, train_final_predictions)\n",
    "train_precision = precision_score(y_train, train_final_predictions)\n",
    "\n",
    "final_prio = prio(final_predictions, y_test)\n",
    "\n",
    "print(\"--------Train--------\")\n",
    "print(\"Score:\", train_score)\n",
    "print(\"F1:\", train_f1)\n",
    "print(\"Recall:\", train_recall)\n",
    "print(\"Precision:\", train_precision)\n",
    "\n",
    "print(\"--------Test--------\")\n",
    "print(\"Score:\", score)\n",
    "print(\"F1:\", f1)\n",
    "print(\"Recall:\", recall)\n",
    "print(\"Precision:\", precision)"
   ]
  },
  {
   "cell_type": "code",
   "execution_count": null,
   "id": "887e36c4",
   "metadata": {},
   "outputs": [],
   "source": [
    "prio_data = prio(predictions, y_test)  \n",
    "apbd(prio_data)"
   ]
  },
  {
   "cell_type": "code",
   "execution_count": null,
   "id": "fb466801",
   "metadata": {},
   "outputs": [],
   "source": [
    "plot_true_bugs(prio_data).show()"
   ]
  },
  {
   "cell_type": "markdown",
   "id": "460576b4",
   "metadata": {},
   "source": [
    "# SGD Regressor"
   ]
  },
  {
   "cell_type": "code",
   "execution_count": null,
   "id": "c08284e8",
   "metadata": {},
   "outputs": [],
   "source": [
    "from sklearn.linear_model import SGDRegressor\n",
    "sgd_regressor_model = SGDRegressor()\n",
    "sgd_regressor_model.fit(x_train, y_train)\n",
    "\n",
    "predictions = sgd_regressor_model.predict(x_test)\n",
    "final_predictions = []\n",
    "\n",
    "for p in predictions:\n",
    "    final_p = False\n",
    "    if (p > 0.5):\n",
    "        final_p = True\n",
    "    final_predictions.append(final_p)\n",
    "    \n",
    "score = accuracy_score(y_test, final_predictions)\n",
    "f1 = f1_score(y_test, final_predictions)\n",
    "recall = recall_score(y_test, final_predictions)\n",
    "precision = precision_score(y_test, final_predictions)\n",
    "\n",
    "train_predictions = k_neighboors_regressor_model.predict(x_train)\n",
    "train_final_predictions = []\n",
    "\n",
    "for p in train_predictions:\n",
    "    final_p = False\n",
    "    if (p > 0.5):\n",
    "        final_p = True\n",
    "    train_final_predictions.append(final_p)\n",
    "    \n",
    "train_score = accuracy_score(y_train, train_final_predictions)\n",
    "train_f1 = f1_score(y_train, train_final_predictions)\n",
    "train_recall = recall_score(y_train, train_final_predictions)\n",
    "train_precision = precision_score(y_train, train_final_predictions)\n",
    "\n",
    "final_prio = prio(final_predictions, y_test)\n",
    "\n",
    "print(\"--------Train--------\")\n",
    "print(\"Score:\", train_score)\n",
    "print(\"F1:\", train_f1)\n",
    "print(\"Recall:\", train_recall)\n",
    "print(\"Precision:\", train_precision)\n",
    "\n",
    "print(\"--------Test--------\")\n",
    "print(\"Score:\", score)\n",
    "print(\"F1:\", f1)\n",
    "print(\"Recall:\", recall)\n",
    "print(\"Precision:\", precision)"
   ]
  },
  {
   "cell_type": "code",
   "execution_count": null,
   "id": "01673a37",
   "metadata": {},
   "outputs": [],
   "source": [
    "prio_data = prio(predictions, y_test)  \n",
    "apbd(prio_data)"
   ]
  },
  {
   "cell_type": "code",
   "execution_count": null,
   "id": "77262640",
   "metadata": {},
   "outputs": [],
   "source": [
    "plot_true_bugs(prio_data).show()"
   ]
  },
  {
   "cell_type": "markdown",
   "id": "d45ac6e6",
   "metadata": {},
   "source": [
    "# Ridge CV"
   ]
  },
  {
   "cell_type": "code",
   "execution_count": null,
   "id": "c53ba505",
   "metadata": {},
   "outputs": [],
   "source": [
    "from sklearn.linear_model import RidgeCV\n",
    "ridge_cv_model = RidgeCV(alphas=[1e-3, 1e-2, 1e-1, 1])\n",
    "ridge_cv_model.fit(x_train, y_train)\n",
    "\n",
    "predictions = ridge_cv_model.predict(x_test)\n",
    "final_predictions = []\n",
    "\n",
    "for p in predictions:\n",
    "    final_p = False\n",
    "    if (p > 0.5):\n",
    "        final_p = True\n",
    "    final_predictions.append(final_p)\n",
    "    \n",
    "score = accuracy_score(y_test, final_predictions)\n",
    "f1 = f1_score(y_test, final_predictions)\n",
    "recall = recall_score(y_test, final_predictions)\n",
    "precision = precision_score(y_test, final_predictions)\n",
    "\n",
    "train_predictions = k_neighboors_regressor_model.predict(x_train)\n",
    "train_final_predictions = []\n",
    "\n",
    "for p in train_predictions:\n",
    "    final_p = False\n",
    "    if (p > 0.5):\n",
    "        final_p = True\n",
    "    train_final_predictions.append(final_p)\n",
    "    \n",
    "train_score = accuracy_score(y_train, train_final_predictions)\n",
    "train_f1 = f1_score(y_train, train_final_predictions)\n",
    "train_recall = recall_score(y_train, train_final_predictions)\n",
    "train_precision = precision_score(y_train, train_final_predictions)\n",
    "\n",
    "final_prio = prio(final_predictions, y_test)\n",
    "\n",
    "print(\"--------Train--------\")\n",
    "print(\"Score:\", train_score)\n",
    "print(\"F1:\", train_f1)\n",
    "print(\"Recall:\", train_recall)\n",
    "print(\"Precision:\", train_precision)\n",
    "\n",
    "print(\"--------Test--------\")\n",
    "print(\"Score:\", score)\n",
    "print(\"F1:\", f1)\n",
    "print(\"Recall:\", recall)\n",
    "print(\"Precision:\", precision)"
   ]
  },
  {
   "cell_type": "code",
   "execution_count": null,
   "id": "bbde8c96",
   "metadata": {},
   "outputs": [],
   "source": [
    "prio_data = prio(predictions, y_test)  \n",
    "apbd(prio_data)"
   ]
  },
  {
   "cell_type": "code",
   "execution_count": null,
   "id": "c2f7f20e",
   "metadata": {},
   "outputs": [],
   "source": [
    "plot_true_bugs(prio_data).show()"
   ]
  },
  {
   "cell_type": "markdown",
   "id": "a6e7005c",
   "metadata": {},
   "source": [
    "#  ARDRegression"
   ]
  },
  {
   "cell_type": "code",
   "execution_count": null,
   "id": "aaa9eb3f",
   "metadata": {},
   "outputs": [],
   "source": [
    "from sklearn.linear_model import ARDRegression\n",
    "ard_regression_model = ARDRegression()\n",
    "ard_regression_model.fit(x_train, y_train)\n",
    "\n",
    "predictions = ard_regression_model.predict(x_test)\n",
    "final_predictions = []\n",
    "\n",
    "for p in predictions:\n",
    "    final_p = False\n",
    "    if (p > 0.5):\n",
    "        final_p = True\n",
    "    final_predictions.append(final_p)\n",
    "\n",
    "score = accuracy_score(y_test, final_predictions)\n",
    "f1 = f1_score(y_test, final_predictions)\n",
    "recall = recall_score(y_test, final_predictions)\n",
    "precision = precision_score(y_test, final_predictions)\n",
    "\n",
    "train_predictions = k_neighboors_regressor_model.predict(x_train)\n",
    "train_final_predictions = []\n",
    "\n",
    "for p in train_predictions:\n",
    "    final_p = False\n",
    "    if (p > 0.5):\n",
    "        final_p = True\n",
    "    train_final_predictions.append(final_p)\n",
    "    \n",
    "train_score = accuracy_score(y_train, train_final_predictions)\n",
    "train_f1 = f1_score(y_train, train_final_predictions)\n",
    "train_recall = recall_score(y_train, train_final_predictions)\n",
    "train_precision = precision_score(y_train, train_final_predictions)\n",
    "\n",
    "final_prio = prio(final_predictions, y_test)\n",
    "\n",
    "print(\"--------Train--------\")\n",
    "print(\"Score:\", train_score)\n",
    "print(\"F1:\", train_f1)\n",
    "print(\"Recall:\", train_recall)\n",
    "print(\"Precision:\", train_precision)\n",
    "\n",
    "print(\"--------Test--------\")\n",
    "print(\"Score:\", score)\n",
    "print(\"F1:\", f1)\n",
    "print(\"Recall:\", recall)\n",
    "print(\"Precision:\", precision)"
   ]
  },
  {
   "cell_type": "code",
   "execution_count": null,
   "id": "c70ba2b7",
   "metadata": {},
   "outputs": [],
   "source": [
    "prio_data = prio(predictions, y_test)  \n",
    "apbd(prio_data)"
   ]
  },
  {
   "cell_type": "code",
   "execution_count": null,
   "id": "fb8b555e",
   "metadata": {},
   "outputs": [],
   "source": [
    "plot_true_bugs(prio_data).show()"
   ]
  },
  {
   "cell_type": "markdown",
   "id": "7f86b789",
   "metadata": {},
   "source": [
    "#  BayesianRidge"
   ]
  },
  {
   "cell_type": "code",
   "execution_count": null,
   "id": "3dd9ff9b",
   "metadata": {},
   "outputs": [],
   "source": [
    "from sklearn.linear_model import BayesianRidge\n",
    "bayesian_ridge_model = BayesianRidge()\n",
    "bayesian_ridge_model.fit(x_train, y_train)\n",
    "\n",
    "predictions = bayesian_ridge_model.predict(x_test)\n",
    "final_predictions = []\n",
    "\n",
    "for p in predictions:\n",
    "    final_p = False\n",
    "    if (p > 0.5):\n",
    "        final_p = True\n",
    "    final_predictions.append(final_p)\n",
    "\n",
    "score = accuracy_score(y_test, final_predictions)\n",
    "f1 = f1_score(y_test, final_predictions)\n",
    "recall = recall_score(y_test, final_predictions)\n",
    "precision = precision_score(y_test, final_predictions)\n",
    "\n",
    "train_predictions = k_neighboors_regressor_model.predict(x_train)\n",
    "train_final_predictions = []\n",
    "\n",
    "for p in train_predictions:\n",
    "    final_p = False\n",
    "    if (p > 0.5):\n",
    "        final_p = True\n",
    "    train_final_predictions.append(final_p)\n",
    "    \n",
    "train_score = accuracy_score(y_train, train_final_predictions)\n",
    "train_f1 = f1_score(y_train, train_final_predictions)\n",
    "train_recall = recall_score(y_train, train_final_predictions)\n",
    "train_precision = precision_score(y_train, train_final_predictions)\n",
    "\n",
    "final_prio = prio(final_predictions, y_test)\n",
    "\n",
    "print(\"--------Train--------\")\n",
    "print(\"Score:\", train_score)\n",
    "print(\"F1:\", train_f1)\n",
    "print(\"Recall:\", train_recall)\n",
    "print(\"Precision:\", train_precision)\n",
    "\n",
    "print(\"--------Test--------\")\n",
    "print(\"Score:\", score)\n",
    "print(\"F1:\", f1)\n",
    "print(\"Recall:\", recall)\n",
    "print(\"Precision:\", precision)"
   ]
  },
  {
   "cell_type": "code",
   "execution_count": null,
   "id": "1243407f",
   "metadata": {
    "scrolled": true
   },
   "outputs": [],
   "source": [
    "prio_data = prio(predictions, y_test)  \n",
    "apbd(prio_data)"
   ]
  },
  {
   "cell_type": "code",
   "execution_count": null,
   "id": "33a58710",
   "metadata": {},
   "outputs": [],
   "source": [
    "plot_true_bugs(prio_data).show()"
   ]
  },
  {
   "cell_type": "markdown",
   "id": "70b4ca68",
   "metadata": {},
   "source": [
    "#  AdaBoostClassifier"
   ]
  },
  {
   "cell_type": "code",
   "execution_count": null,
   "id": "b584a3e3",
   "metadata": {},
   "outputs": [],
   "source": [
    "from sklearn.ensemble import AdaBoostClassifier\n",
    "ada_boost_classifier_model = AdaBoostClassifier()\n",
    "ada_boost_classifier_model.fit(x_train, y_train)\n",
    "\n",
    "predictions = ada_boost_classifier_model.predict(x_test)\n",
    "\n",
    "score = accuracy_score(y_test, predictions)\n",
    "f1 = f1_score(y_test, predictions)\n",
    "recall = recall_score(y_test, predictions)\n",
    "precision = precision_score(y_test, predictions)\n",
    "\n",
    "train_predictions = ada_boost_classifier_model.predict(x_train)\n",
    "train_score = accuracy_score(y_train, train_predictions)\n",
    "train_f1 = f1_score(y_train, train_predictions)\n",
    "train_recall = recall_score(y_train, train_predictions)\n",
    "train_precision = precision_score(y_train, train_predictions)\n",
    "\n",
    "final_prio = prio(predictions, y_test)\n",
    "\n",
    "print(\"--------Train--------\")\n",
    "print(\"Score:\", train_score)\n",
    "print(\"F1:\", train_f1)\n",
    "print(\"Recall:\", train_recall)\n",
    "print(\"Precision:\", train_precision)\n",
    "\n",
    "print(\"--------Test--------\")\n",
    "print(\"Score:\", score)\n",
    "print(\"F1:\", f1)\n",
    "print(\"Recall:\", recall)\n",
    "print(\"Precision:\", precision)"
   ]
  },
  {
   "cell_type": "code",
   "execution_count": null,
   "id": "2c46caa3",
   "metadata": {},
   "outputs": [],
   "source": [
    "apbd(final_prio)"
   ]
  },
  {
   "cell_type": "code",
   "execution_count": null,
   "id": "7172d75a",
   "metadata": {},
   "outputs": [],
   "source": [
    "plot_true_bugs(final_prio).show()"
   ]
  },
  {
   "cell_type": "markdown",
   "id": "87e946f7",
   "metadata": {},
   "source": [
    "#  ExtraTreesClassifier"
   ]
  },
  {
   "cell_type": "code",
   "execution_count": null,
   "id": "b30f2ef1",
   "metadata": {},
   "outputs": [],
   "source": [
    "from sklearn.ensemble import ExtraTreesClassifier\n",
    "extra_trees_classifier_model = ExtraTreesClassifier()\n",
    "extra_trees_classifier_model.fit(x_train, y_train)\n",
    "\n",
    "predictions = extra_trees_classifier_model.predict(x_test)\n",
    "\n",
    "score = accuracy_score(y_test, predictions)\n",
    "f1 = f1_score(y_test, predictions)\n",
    "recall = recall_score(y_test, predictions)\n",
    "precision = precision_score(y_test, predictions)\n",
    "\n",
    "train_predictions = extra_trees_classifier_model.predict(x_train)\n",
    "train_score = accuracy_score(y_train, train_predictions)\n",
    "train_f1 = f1_score(y_train, train_predictions)\n",
    "train_recall = recall_score(y_train, train_predictions)\n",
    "train_precision = precision_score(y_train, train_predictions)\n",
    "\n",
    "final_prio = prio(predictions, y_test)\n",
    "\n",
    "print(\"--------Train--------\")\n",
    "print(\"Score:\", train_score)\n",
    "print(\"F1:\", train_f1)\n",
    "print(\"Recall:\", train_recall)\n",
    "print(\"Precision:\", train_precision)\n",
    "\n",
    "print(\"--------Test--------\")\n",
    "print(\"Score:\", score)\n",
    "print(\"F1:\", f1)\n",
    "print(\"Recall:\", recall)\n",
    "print(\"Precision:\", precision)"
   ]
  },
  {
   "cell_type": "code",
   "execution_count": null,
   "id": "135ca17b",
   "metadata": {},
   "outputs": [],
   "source": [
    "apbd(final_prio)"
   ]
  },
  {
   "cell_type": "code",
   "execution_count": null,
   "id": "e4d21905",
   "metadata": {},
   "outputs": [],
   "source": [
    "plot_true_bugs(final_prio).show()"
   ]
  },
  {
   "cell_type": "markdown",
   "id": "69819149",
   "metadata": {},
   "source": [
    "#  GradientBoostingClassifier"
   ]
  },
  {
   "cell_type": "code",
   "execution_count": null,
   "id": "dae620dc",
   "metadata": {},
   "outputs": [],
   "source": [
    "from sklearn.ensemble import GradientBoostingClassifier\n",
    "gradient_boosting_classifier_model = GradientBoostingClassifier()\n",
    "gradient_boosting_classifier_model.fit(x_train, y_train)\n",
    "\n",
    "predictions = gradient_boosting_classifier_model.predict(x_test)\n",
    "\n",
    "score = accuracy_score(y_test, predictions)\n",
    "f1 = f1_score(y_test, predictions)\n",
    "recall = recall_score(y_test, predictions)\n",
    "precision = precision_score(y_test, predictions)\n",
    "\n",
    "train_predictions = gradient_boosting_classifier_model.predict(x_train)\n",
    "train_score = accuracy_score(y_train, train_predictions)\n",
    "train_f1 = f1_score(y_train, train_predictions)\n",
    "train_recall = recall_score(y_train, train_predictions)\n",
    "train_precision = precision_score(y_train, train_predictions)\n",
    "\n",
    "final_prio = prio(predictions, y_test)\n",
    "\n",
    "print(\"--------Train--------\")\n",
    "print(\"Score:\", train_score)\n",
    "print(\"F1:\", train_f1)\n",
    "print(\"Recall:\", train_recall)\n",
    "print(\"Precision:\", train_precision)\n",
    "\n",
    "print(\"--------Test--------\")\n",
    "print(\"Score:\", score)\n",
    "print(\"F1:\", f1)\n",
    "print(\"Recall:\", recall)\n",
    "print(\"Precision:\", precision)"
   ]
  },
  {
   "cell_type": "code",
   "execution_count": null,
   "id": "3cdc6816",
   "metadata": {},
   "outputs": [],
   "source": [
    "apbd(final_prio)"
   ]
  },
  {
   "cell_type": "code",
   "execution_count": null,
   "id": "7274cf33",
   "metadata": {},
   "outputs": [],
   "source": [
    "plot_true_bugs(final_prio).show()"
   ]
  },
  {
   "cell_type": "markdown",
   "id": "8fa050e6",
   "metadata": {},
   "source": [
    "#  RandomForestClassifier"
   ]
  },
  {
   "cell_type": "code",
   "execution_count": null,
   "id": "35a028ce",
   "metadata": {},
   "outputs": [],
   "source": [
    "from sklearn.ensemble import RandomForestClassifier\n",
    "random_forest_classifier_model = RandomForestClassifier()\n",
    "random_forest_classifier_model.fit(x_train, y_train)\n",
    "\n",
    "predictions = random_forest_classifier_model.predict(x_test)\n",
    "\n",
    "score = accuracy_score(y_test, predictions)\n",
    "f1 = f1_score(y_test, predictions)\n",
    "recall = recall_score(y_test, predictions)\n",
    "precision = precision_score(y_test, predictions)\n",
    "\n",
    "train_predictions = random_forest_classifier_model.predict(x_train)\n",
    "train_score = accuracy_score(y_train, train_predictions)\n",
    "train_f1 = f1_score(y_train, train_predictions)\n",
    "train_recall = recall_score(y_train, train_predictions)\n",
    "train_precision = precision_score(y_train, train_predictions)\n",
    "\n",
    "final_prio = prio(predictions, y_test)\n",
    "\n",
    "print(\"--------Train--------\")\n",
    "print(\"Score:\", train_score)\n",
    "print(\"F1:\", train_f1)\n",
    "print(\"Recall:\", train_recall)\n",
    "print(\"Precision:\", train_precision)\n",
    "\n",
    "print(\"--------Test--------\")\n",
    "print(\"Score:\", score)\n",
    "print(\"F1:\", f1)\n",
    "print(\"Recall:\", recall)\n",
    "print(\"Precision:\", precision)"
   ]
  },
  {
   "cell_type": "code",
   "execution_count": null,
   "id": "5cc93a0c",
   "metadata": {
    "scrolled": true
   },
   "outputs": [],
   "source": [
    "apbd(final_prio)"
   ]
  },
  {
   "cell_type": "code",
   "execution_count": null,
   "id": "5803552f",
   "metadata": {},
   "outputs": [],
   "source": [
    "plot_true_bugs(final_prio).show()"
   ]
  },
  {
   "cell_type": "markdown",
   "id": "2c4f2bcb",
   "metadata": {},
   "source": [
    "#  HistGradientBoostingClassifier"
   ]
  },
  {
   "cell_type": "code",
   "execution_count": null,
   "id": "f045cab3",
   "metadata": {},
   "outputs": [],
   "source": [
    "from sklearn.ensemble import HistGradientBoostingClassifier\n",
    "hist_gradient_boosting_classifier_model = HistGradientBoostingClassifier()\n",
    "hist_gradient_boosting_classifier_model.fit(x_train, y_train)\n",
    "\n",
    "predictions = hist_gradient_boosting_classifier_model.predict(x_test)\n",
    "\n",
    "score = accuracy_score(y_test, predictions)\n",
    "f1 = f1_score(y_test, predictions)\n",
    "recall = recall_score(y_test, predictions)\n",
    "precision = precision_score(y_test, predictions)\n",
    "\n",
    "train_predictions = hist_gradient_boosting_classifier_model.predict(x_train)\n",
    "train_score = accuracy_score(y_train, train_predictions)\n",
    "train_f1 = f1_score(y_train, train_predictions)\n",
    "train_recall = recall_score(y_train, train_predictions)\n",
    "train_precision = precision_score(y_train, train_predictions)\n",
    "\n",
    "final_prio = prio(predictions, y_test)\n",
    "\n",
    "print(\"--------Train--------\")\n",
    "print(\"Score:\", train_score)\n",
    "print(\"F1:\", train_f1)\n",
    "print(\"Recall:\", train_recall)\n",
    "print(\"Precision:\", train_precision)\n",
    "\n",
    "print(\"--------Test--------\")\n",
    "print(\"Score:\", score)\n",
    "print(\"F1:\", f1)\n",
    "print(\"Recall:\", recall)\n",
    "print(\"Precision:\", precision)"
   ]
  },
  {
   "cell_type": "code",
   "execution_count": null,
   "id": "2ca03105",
   "metadata": {},
   "outputs": [],
   "source": [
    "apbd(final_prio)"
   ]
  },
  {
   "cell_type": "code",
   "execution_count": null,
   "id": "e5f2220c",
   "metadata": {},
   "outputs": [],
   "source": [
    "plot_true_bugs(final_prio).show()"
   ]
  },
  {
   "cell_type": "markdown",
   "id": "d838eb7b",
   "metadata": {},
   "source": [
    "#  StackingClassifier"
   ]
  },
  {
   "cell_type": "code",
   "execution_count": null,
   "id": "fb44ec63",
   "metadata": {},
   "outputs": [],
   "source": [
    "from sklearn.ensemble import StackingClassifier\n",
    "\n",
    "estimators = [(\"decision_tree_classifier_model\", decision_tree_classifier_model),\n",
    "             (\"k_neighboors_classifier_model\", k_neighboors_classifier_model),\n",
    "              (\"ada_boost_classifier_model\", ada_boost_classifier_model),\n",
    "              (\"extra_trees_classifier_model\", extra_trees_classifier_model),\n",
    "              (\"gradient_boosting_classifier_model\", gradient_boosting_classifier_model),\n",
    "              (\"random_forest_classifier_model\", random_forest_classifier_model),\n",
    "              (\"hist_gradient_boosting_classifier_model\", hist_gradient_boosting_classifier_model)\n",
    "             ]\n",
    "\n",
    "stacking_classifier_model = StackingClassifier(estimators=estimators)\n",
    "stacking_classifier_model.fit(x_train, y_train)\n",
    "\n",
    "predictions = stacking_classifier_model.predict(x_test)\n",
    "\n",
    "score = accuracy_score(y_test, predictions)\n",
    "f1 = f1_score(y_test, predictions)\n",
    "recall = recall_score(y_test, predictions)\n",
    "precision = precision_score(y_test, predictions)\n",
    "\n",
    "train_predictions = stacking_classifier_model.predict(x_train)\n",
    "train_score = accuracy_score(y_train, train_predictions)\n",
    "train_f1 = f1_score(y_train, train_predictions)\n",
    "train_recall = recall_score(y_train, train_predictions)\n",
    "train_precision = precision_score(y_train, train_predictions)\n",
    "\n",
    "final_prio = prio(predictions, y_test)\n",
    "\n",
    "print(\"--------Train--------\")\n",
    "print(\"Score:\", train_score)\n",
    "print(\"F1:\", train_f1)\n",
    "print(\"Recall:\", train_recall)\n",
    "print(\"Precision:\", train_precision)\n",
    "\n",
    "print(\"--------Test--------\")\n",
    "print(\"Score:\", score)\n",
    "print(\"F1:\", f1)\n",
    "print(\"Recall:\", recall)\n",
    "print(\"Precision:\", precision)"
   ]
  },
  {
   "cell_type": "code",
   "execution_count": null,
   "id": "82ec406c",
   "metadata": {},
   "outputs": [],
   "source": [
    "apbd(final_prio)"
   ]
  },
  {
   "cell_type": "code",
   "execution_count": null,
   "id": "d2c66f91",
   "metadata": {},
   "outputs": [],
   "source": [
    "plot_true_bugs(final_prio).show()"
   ]
  },
  {
   "cell_type": "markdown",
   "id": "bbc9ee99",
   "metadata": {},
   "source": [
    "#  RandomForestClassifier"
   ]
  },
  {
   "cell_type": "code",
   "execution_count": null,
   "id": "c814d3ad",
   "metadata": {},
   "outputs": [],
   "source": [
    "from sklearn.ensemble import VotingClassifier\n",
    "\n",
    "estimators = [(\"decision_tree_classifier_model\", decision_tree_classifier_model),\n",
    "             (\"k_neighboors_classifier_model\", k_neighboors_classifier_model),\n",
    "              (\"ada_boost_classifier_model\", ada_boost_classifier_model),\n",
    "              (\"extra_trees_classifier_model\", extra_trees_classifier_model),\n",
    "              (\"gradient_boosting_classifier_model\", gradient_boosting_classifier_model),\n",
    "              (\"random_forest_classifier_model\", random_forest_classifier_model),\n",
    "              (\"hist_gradient_boosting_classifier_model\", hist_gradient_boosting_classifier_model)\n",
    "             ]\n",
    "\n",
    "voting_classifier_model = VotingClassifier(estimators=estimators)\n",
    "voting_classifier_model.fit(x_train, y_train)\n",
    "\n",
    "predictions = voting_classifier_model.predict(x_test)\n",
    "\n",
    "score = accuracy_score(y_test, predictions)\n",
    "f1 = f1_score(y_test, predictions)\n",
    "recall = recall_score(y_test, predictions)\n",
    "precision = precision_score(y_test, predictions)\n",
    "\n",
    "train_predictions = voting_classifier_model.predict(x_train)\n",
    "train_score = accuracy_score(y_train, train_predictions)\n",
    "train_f1 = f1_score(y_train, train_predictions)\n",
    "train_recall = recall_score(y_train, train_predictions)\n",
    "train_precision = precision_score(y_train, train_predictions)\n",
    "\n",
    "final_prio = prio(predictions, y_test)\n",
    "\n",
    "print(\"--------Train--------\")\n",
    "print(\"Score:\", train_score)\n",
    "print(\"F1:\", train_f1)\n",
    "print(\"Recall:\", train_recall)\n",
    "print(\"Precision:\", train_precision)\n",
    "\n",
    "print(\"--------Test--------\")\n",
    "print(\"Score:\", score)\n",
    "print(\"F1:\", f1)\n",
    "print(\"Recall:\", recall)\n",
    "print(\"Precision:\", precision)"
   ]
  },
  {
   "cell_type": "code",
   "execution_count": null,
   "id": "52d9d03d",
   "metadata": {},
   "outputs": [],
   "source": [
    "apbd(final_prio)"
   ]
  },
  {
   "cell_type": "code",
   "execution_count": null,
   "id": "52f24792",
   "metadata": {},
   "outputs": [],
   "source": [
    "plot_true_bugs(final_prio).show()"
   ]
  }
 ],
 "metadata": {
  "kernelspec": {
   "display_name": "Python 3 (ipykernel)",
   "language": "python",
   "name": "python3"
  },
  "language_info": {
   "codemirror_mode": {
    "name": "ipython",
    "version": 3
   },
   "file_extension": ".py",
   "mimetype": "text/x-python",
   "name": "python",
   "nbconvert_exporter": "python",
   "pygments_lexer": "ipython3",
   "version": "3.8.10"
  }
 },
 "nbformat": 4,
 "nbformat_minor": 5
}
